{
 "cells": [
  {
   "cell_type": "code",
   "execution_count": 145,
   "metadata": {
    "collapsed": true
   },
   "outputs": [],
   "source": [
    "import numpy as np\n",
    "import tensorflow as tf\n",
    "import pandas as pd\n",
    "from sklearn.model_selection import train_test_split"
   ]
  },
  {
   "cell_type": "code",
   "execution_count": 146,
   "metadata": {
    "collapsed": true
   },
   "outputs": [],
   "source": [
    "#Loading the Data\n",
    "data=pd.read_csv('data/voice.csv')"
   ]
  },
  {
   "cell_type": "code",
   "execution_count": 175,
   "metadata": {},
   "outputs": [],
   "source": [
    "#making the data\n",
    "X_data=np.array(data.iloc[:,:20]).astype(np.float32)\n",
    "Y_data=(np.array(data.iloc[:,20])=='male').astype(np.float32)"
   ]
  },
  {
   "cell_type": "code",
   "execution_count": 214,
   "metadata": {},
   "outputs": [
    {
     "name": "stdout",
     "output_type": "stream",
     "text": [
      "(2500,) (668,)\n",
      "(20, 2500) (1, 2500) (20, 668) (1, 668)\n"
     ]
    }
   ],
   "source": [
    "#Preprocessing of data\n",
    "train_ind=np.random.choice(X_data.shape[0],2500,replace=False)\n",
    "test_ind=np.delete(np.arange(0,3168),train_ind)\n",
    "print(train_ind.shape,test_ind.shape)\n",
    "X_train=X_data[train_ind].T\n",
    "Y_train=Y_data[train_ind].reshape(1,-1)\n",
    "X_test=X_data[test_ind].T\n",
    "Y_test=Y_data[test_ind].reshape(1,-1)\n",
    "print(X_train.shape,Y_train.shape,X_test.shape,Y_test.shape)"
   ]
  },
  {
   "cell_type": "code",
   "execution_count": 215,
   "metadata": {},
   "outputs": [],
   "source": [
    "#Tensorflow graph\n",
    "X=tf.placeholder(tf.float32,[20,None])\n",
    "Y=tf.placeholder(tf.float32,[1,None])\n",
    "W1=tf.Variable(tf.random_normal([200,20]),dtype=tf.float32)\n",
    "b1=tf.Variable(tf.random_normal([200,1]),dtype=tf.float32)\n",
    "W2=tf.Variable(tf.random_normal([1,200]),dtype=tf.float32)\n",
    "b2=tf.Variable(tf.random_normal([1]),dtype=tf.float32)\n",
    "hold_prob=tf.placeholder(tf.float32)\n",
    "A1=tf.nn.dropout(tf.nn.relu(tf.matmul(W1,X)+b1),keep_prob=hold_prob)\n",
    "Yhat=tf.matmul(W2,A1)+b2"
   ]
  },
  {
   "cell_type": "code",
   "execution_count": 216,
   "metadata": {},
   "outputs": [],
   "source": [
    "#Define loss\n",
    "loss=tf.reduce_mean(tf.nn.sigmoid_cross_entropy_with_logits(labels=Y,logits=Yhat))\n",
    "#acc=tf.reduce_sum(tf.cast(tf.equal(Y,tf.round(Yhat)),dtype=tf.float32))"
   ]
  },
  {
   "cell_type": "code",
   "execution_count": 217,
   "metadata": {
    "collapsed": true
   },
   "outputs": [],
   "source": [
    "#Optimizer\n",
    "opt=tf.train.AdamOptimizer(learning_rate=0.1).minimize(loss)"
   ]
  },
  {
   "cell_type": "code",
   "execution_count": 220,
   "metadata": {},
   "outputs": [
    {
     "name": "stdout",
     "output_type": "stream",
     "text": [
      "0 Loss :  163.06 225.569\n",
      "2000 Loss :  0.266771 0.240439\n",
      "4000 Loss :  0.156587 0.134313\n",
      "6000 Loss :  0.145797 0.122571\n",
      "8000 Loss :  0.141774 0.11708\n",
      "10000 Loss :  0.135476 0.115044\n"
     ]
    }
   ],
   "source": [
    "#Session\n",
    "init=tf.global_variables_initializer()\n",
    "with tf.Session() as sess:\n",
    "    sess.run(init)\n",
    "    for i in range(10000+1):\n",
    "        sess.run(opt,feed_dict={X:X_train,Y:Y_train,hold_prob:0.5})\n",
    "        if i%2000==0:\n",
    "            print(i,\"Loss : \",sess.run(loss,feed_dict={Y:Y_test,X:X_test,hold_prob:1.0}),sess.run(loss,feed_dict={Y:Y_train,X:X_train,hold_prob:1.0}))"
   ]
  },
  {
   "cell_type": "code",
   "execution_count": null,
   "metadata": {
    "collapsed": true
   },
   "outputs": [],
   "source": []
  }
 ],
 "metadata": {
  "kernelspec": {
   "display_name": "Python 3",
   "language": "python",
   "name": "python3"
  },
  "language_info": {
   "codemirror_mode": {
    "name": "ipython",
    "version": 3
   },
   "file_extension": ".py",
   "mimetype": "text/x-python",
   "name": "python",
   "nbconvert_exporter": "python",
   "pygments_lexer": "ipython3",
   "version": "3.6.1"
  }
 },
 "nbformat": 4,
 "nbformat_minor": 2
}
